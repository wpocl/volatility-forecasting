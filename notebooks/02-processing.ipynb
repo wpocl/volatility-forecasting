{
 "cells": [
  {
   "cell_type": "code",
   "execution_count": 286,
   "metadata": {},
   "outputs": [],
   "source": [
    "import matplotlib.pyplot as plt\n",
    "import numpy as np\n",
    "import pandas as pd\n",
    "from skfda import FDataGrid\n",
    "from statsmodels.nonparametric.kde import KDEUnivariate"
   ]
  },
  {
   "cell_type": "code",
   "execution_count": 287,
   "metadata": {},
   "outputs": [],
   "source": [
    "plt.style.use(\"ggplot\")"
   ]
  },
  {
   "cell_type": "code",
   "execution_count": 288,
   "metadata": {},
   "outputs": [],
   "source": [
    "df = pd.read_pickle(\"data/02-preprocessed/return_df.pickle\")\n",
    "df.index = pd.to_datetime(df.index)"
   ]
  },
  {
   "cell_type": "code",
   "execution_count": 289,
   "metadata": {},
   "outputs": [],
   "source": [
    "# Centre the data; get same result whether we centre before or\n",
    "# after KDE but easier and more efficient to centre before\n",
    "centre = lambda arr: arr - np.mean(arr, axis=0)\n",
    "df1 = df.resample(\"M\", group_keys=False).apply(centre)\n",
    "\n",
    "# Convert each month of observations for each currency pair into a sample\n",
    "to_sample = lambda arr: arr.values.tolist()\n",
    "df1 = df1.resample(\"M\", group_keys=False).agg(to_sample)"
   ]
  },
  {
   "cell_type": "code",
   "execution_count": 290,
   "metadata": {},
   "outputs": [],
   "source": [
    "df1.index = df1.index.to_period(\"M\")"
   ]
  },
  {
   "cell_type": "code",
   "execution_count": 291,
   "metadata": {},
   "outputs": [],
   "source": [
    "# KDE params\n",
    "params = {\"kernel\": \"gau\",\n",
    "          \"bw\": \"silverman\",\n",
    "          \"fft\": True,\n",
    "          \"gridsize\": 1024,\n",
    "          \"cut\": 3,\n",
    "          \"adjust\": 1\n",
    "          }"
   ]
  },
  {
   "cell_type": "code",
   "execution_count": 292,
   "metadata": {},
   "outputs": [],
   "source": [
    "# Create DataFrame for functional data\n",
    "fd_df = pd.Series(index=df1.columns, dtype=object)"
   ]
  },
  {
   "cell_type": "code",
   "execution_count": 293,
   "metadata": {},
   "outputs": [],
   "source": [
    "# Create discrete domain for density functions\n",
    "grid_points = np.linspace(-0.04, 0.04, params[\"gridsize\"])\n",
    "\n",
    "for column_name, column in df1.items():\n",
    "    # Compute the KDEs, discretized onto grid_points\n",
    "    data_matrix = []\n",
    "    for _, sample in column.resample(\"M\"):\n",
    "        sample = sample[0]\n",
    "\n",
    "        kde = KDEUnivariate(sample)\n",
    "        kde.fit(**params)\n",
    "        \n",
    "        func = kde.evaluate(grid_points)\n",
    "        data_matrix.append(func)\n",
    "    data_matrix = np.array(data_matrix)\n",
    "\n",
    "    # Threshold values for use in CODA - small enough to not affect integral\n",
    "    data_matrix[data_matrix <= 10e-40] = 10e-40\n",
    "\n",
    "    # Create FDataGrid\n",
    "    fd_column = FDataGrid(grid_points=grid_points, data_matrix=data_matrix)\n",
    "\n",
    "    fd_df[column_name] = fd_column"
   ]
  },
  {
   "cell_type": "code",
   "execution_count": 294,
   "metadata": {},
   "outputs": [],
   "source": [
    "# Create monthly volatility target\n",
    "monthly_vol = lambda arr: np.std(arr) * np.sqrt(arr.shape[0])\n",
    "\n",
    "y = df.resample(\"M\").apply(monthly_vol)\n",
    "y.index = y.index.to_period(\"M\")"
   ]
  },
  {
   "cell_type": "code",
   "execution_count": 295,
   "metadata": {},
   "outputs": [],
   "source": [
    "# Save processed data\n",
    "fd_df.to_pickle(\"data/03-processed/fd_df.pickle\")\n",
    "y.to_pickle(\"data/03-processed/y.pickle\")"
   ]
  }
 ],
 "metadata": {
  "kernelspec": {
   "display_name": "Python 3.11.3 ('volatility-forecasting')",
   "language": "python",
   "name": "python3"
  },
  "language_info": {
   "codemirror_mode": {
    "name": "ipython",
    "version": 3
   },
   "file_extension": ".py",
   "mimetype": "text/x-python",
   "name": "python",
   "nbconvert_exporter": "python",
   "pygments_lexer": "ipython3",
   "version": "3.8.16"
  },
  "orig_nbformat": 4,
  "vscode": {
   "interpreter": {
    "hash": "239d48d83fc3bc53871c76d1c230e500d006f9a9cbba8d943fc468dfefa173f8"
   }
  }
 },
 "nbformat": 4,
 "nbformat_minor": 2
}
