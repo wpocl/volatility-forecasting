{
 "cells": [
  {
   "cell_type": "code",
   "execution_count": 17,
   "metadata": {},
   "outputs": [],
   "source": [
    "import warnings\n",
    "\n",
    "import matplotlib.pyplot as plt\n",
    "import numpy as np\n",
    "import pandas as pd\n",
    "from skfda import FDataBasis\n",
    "from skfda.preprocessing.dim_reduction import FPCA\n",
    "from sklearn.model_selection import TimeSeriesSplit\n",
    "from statsmodels.tsa.arima.model import ARIMA\n",
    "\n",
    "from utils.helpers import (forecast, monthly_vol,  # ARIMA(0, 1, 1) forecast\n",
    "                           rrmse)\n",
    "from utils.transformations import CODA"
   ]
  },
  {
   "cell_type": "code",
   "execution_count": 18,
   "metadata": {},
   "outputs": [],
   "source": [
    "warnings.filterwarnings('ignore')"
   ]
  },
  {
   "cell_type": "code",
   "execution_count": 19,
   "metadata": {},
   "outputs": [],
   "source": [
    "fd_df = pd.read_pickle(\"data/03-processed/fd_df.pickle\")\n",
    "y = pd.read_pickle(\"data/03-processed/y.pickle\")"
   ]
  },
  {
   "cell_type": "code",
   "execution_count": 20,
   "metadata": {},
   "outputs": [],
   "source": [
    "tscv = TimeSeriesSplit(n_splits=30, test_size=1)"
   ]
  },
  {
   "cell_type": "code",
   "execution_count": 21,
   "metadata": {},
   "outputs": [],
   "source": [
    "# Create index\n",
    "pred_index = [y.index[test_i].to_list()[0] for _, test_i in tscv.split(y)]\n",
    "pred_index = pd.PeriodIndex(pred_index)"
   ]
  },
  {
   "cell_type": "code",
   "execution_count": 22,
   "metadata": {},
   "outputs": [],
   "source": [
    "coda_scores = pd.Series(index=y.columns, dtype=float)\n",
    "\n",
    "coda_preds = pd.DataFrame(index=pred_index, columns=y.columns, \n",
    "                          dtype=float)\n",
    "y_on_pred_index = pd.DataFrame(index=pred_index, columns=y.columns,\n",
    "                               dtype=float)\n",
    "\n",
    "for column in fd_df.index:\n",
    "    y_true = []\n",
    "    y_pred = []\n",
    "    for train_i, test_i in tscv.split(y):\n",
    "        X_train = fd_df[column][train_i]\n",
    "        y_test = y.iloc[test_i[0]][column]\n",
    "\n",
    "        # Transform data through CODA algorithm\n",
    "        coda = CODA()\n",
    "        X_train_transformed = coda.fit_transform(X_train)\n",
    "\n",
    "        # Fit FPCA on transformed data\n",
    "        fpca = FPCA(n_components=7)\n",
    "        scores = fpca.fit_transform(X_train_transformed)\n",
    "\n",
    "        # Forecast FPCA scores\n",
    "        scores_pred = np.apply_along_axis(forecast, axis=0, arr=scores)\n",
    "\n",
    "        # Forecast transformed function\n",
    "        X_transformed_pred = fpca.inverse_transform(scores_pred)\n",
    "\n",
    "        # Inverse transform through CODA algorithm\n",
    "        X_pred = coda.inverse_transform(X_transformed_pred)\n",
    "\n",
    "        # Calculate monthly volatility from density forecast\n",
    "        y_test_pred = np.array(monthly_vol(X_pred, test_i[0]))\n",
    "\n",
    "        y_true.append(y_test)\n",
    "        y_pred.append(y_test_pred)\n",
    "\n",
    "        y_on_pred_index.loc[y.index[test_i][0], column] = y_test\n",
    "        coda_preds.loc[y.index[test_i][0], column] = y_test_pred\n",
    "    \n",
    "    y_true = np.array(y_true)\n",
    "    y_pred = np.array(y_pred)\n",
    "    coda_scores[column] = rrmse(y_true, y_pred)"
   ]
  },
  {
   "cell_type": "code",
   "execution_count": 24,
   "metadata": {},
   "outputs": [],
   "source": [
    "# Save data and results\n",
    "coda_scores.to_pickle(\"data/05-coda/coda_scores.pickle\")\n",
    "y_on_pred_index.to_pickle(\"data/05-coda/y_on_pred_index.pickle\")\n",
    "coda_preds.to_pickle(\"data/05-coda/coda_preds.pickle\")"
   ]
  }
 ],
 "metadata": {
  "kernelspec": {
   "display_name": "volatility-forecasting",
   "language": "python",
   "name": "python3"
  },
  "language_info": {
   "codemirror_mode": {
    "name": "ipython",
    "version": 3
   },
   "file_extension": ".py",
   "mimetype": "text/x-python",
   "name": "python",
   "nbconvert_exporter": "python",
   "pygments_lexer": "ipython3",
   "version": "3.8.16"
  },
  "orig_nbformat": 4
 },
 "nbformat": 4,
 "nbformat_minor": 2
}
