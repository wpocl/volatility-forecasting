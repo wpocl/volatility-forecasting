{
 "cells": [
  {
   "cell_type": "code",
   "execution_count": 1,
   "metadata": {},
   "outputs": [],
   "source": [
    "import warnings\n",
    "\n",
    "import numpy as np\n",
    "import pandas as pd\n",
    "from sklearn.model_selection import TimeSeriesSplit\n",
    "\n",
    "from utils.helpers import forecast, rrmse  # ARIMA(0, 1, 1) forecast"
   ]
  },
  {
   "cell_type": "code",
   "execution_count": 2,
   "metadata": {},
   "outputs": [],
   "source": [
    "warnings.filterwarnings('ignore')"
   ]
  },
  {
   "cell_type": "code",
   "execution_count": 3,
   "metadata": {},
   "outputs": [],
   "source": [
    "y = pd.read_pickle(\"data/03-processed/y.pickle\")"
   ]
  },
  {
   "cell_type": "code",
   "execution_count": 4,
   "metadata": {},
   "outputs": [],
   "source": [
    "tscv = TimeSeriesSplit(n_splits=30, test_size=1)"
   ]
  },
  {
   "cell_type": "code",
   "execution_count": 5,
   "metadata": {},
   "outputs": [],
   "source": [
    "baseline_scores = pd.Series(index=y.columns, dtype=float)\n",
    "\n",
    "for column in y.columns:\n",
    "    y_true = []\n",
    "    y_pred = []\n",
    "    for train_i, test_i in tscv.split(y):\n",
    "        X_train = y.iloc[train_i][column].to_numpy()\n",
    "        y_test = y.iloc[test_i][column]\n",
    "\n",
    "        y_test_pred = forecast(X_train)\n",
    "\n",
    "        y_true.append(y_test)\n",
    "        y_pred.append(y_test_pred)\n",
    "    \n",
    "    y_true = np.array(y_true)\n",
    "    y_pred = np.array(y_pred)\n",
    "    \n",
    "    baseline_scores[column] = rrmse(y_true, y_pred)"
   ]
  },
  {
   "cell_type": "code",
   "execution_count": 6,
   "metadata": {},
   "outputs": [],
   "source": [
    "baseline_scores.to_pickle(\"data/04-baseline/baseline_scores.pickle\")"
   ]
  }
 ],
 "metadata": {
  "kernelspec": {
   "display_name": "volatility-forecasting",
   "language": "python",
   "name": "python3"
  },
  "language_info": {
   "codemirror_mode": {
    "name": "ipython",
    "version": 3
   },
   "file_extension": ".py",
   "mimetype": "text/x-python",
   "name": "python",
   "nbconvert_exporter": "python",
   "pygments_lexer": "ipython3",
   "version": "3.8.16"
  },
  "orig_nbformat": 4
 },
 "nbformat": 4,
 "nbformat_minor": 2
}
